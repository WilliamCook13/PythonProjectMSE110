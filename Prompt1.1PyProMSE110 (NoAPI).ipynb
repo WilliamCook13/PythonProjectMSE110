{
 "cells": [
  {
   "cell_type": "code",
   "execution_count": 10,
   "id": "b8952c3b-92d7-41d2-a890-0378667b639a",
   "metadata": {},
   "outputs": [
    {
     "name": "stderr",
     "output_type": "stream",
     "text": [
      "C:\\Users\\willi\\AppData\\Local\\Temp\\ipykernel_77932\\482069000.py:21: DeprecationWarning: Accessing summary data through MPRester.summary is deprecated. Please use MPRester.materials.summary instead.\n",
      "  oxide_entries = mpr.summary.search(chemsys=f\"{metal}-O\")\n"
     ]
    },
    {
     "data": {
      "application/vnd.jupyter.widget-view+json": {
       "model_id": "695f74fa617646afb3cb9f201bc6413a",
       "version_major": 2,
       "version_minor": 0
      },
      "text/plain": [
       "Retrieving SummaryDoc documents:   0%|          | 0/124 [00:00<?, ?it/s]"
      ]
     },
     "metadata": {},
     "output_type": "display_data"
    },
    {
     "name": "stderr",
     "output_type": "stream",
     "text": [
      "C:\\Users\\willi\\AppData\\Local\\Temp\\ipykernel_77932\\482069000.py:29: DeprecationWarning: Accessing summary data through MPRester.summary is deprecated. Please use MPRester.materials.summary instead.\n",
      "  nitride_entries = mpr.summary.search(chemsys=f\"{metal}-N\")\n"
     ]
    },
    {
     "data": {
      "application/vnd.jupyter.widget-view+json": {
       "model_id": "9ff4edb1211848e58dbec9928f3bae0a",
       "version_major": 2,
       "version_minor": 0
      },
      "text/plain": [
       "Retrieving SummaryDoc documents:   0%|          | 0/16 [00:00<?, ?it/s]"
      ]
     },
     "metadata": {},
     "output_type": "display_data"
    },
    {
     "data": {
      "application/vnd.jupyter.widget-view+json": {
       "model_id": "56aa7233efec4cdba83cea2cef7e0e1e",
       "version_major": 2,
       "version_minor": 0
      },
      "text/plain": [
       "Retrieving SummaryDoc documents:   0%|          | 0/31 [00:00<?, ?it/s]"
      ]
     },
     "metadata": {},
     "output_type": "display_data"
    },
    {
     "data": {
      "application/vnd.jupyter.widget-view+json": {
       "model_id": "3a84cd2b85e64e659c0c85816edf87eb",
       "version_major": 2,
       "version_minor": 0
      },
      "text/plain": [
       "Retrieving SummaryDoc documents:   0%|          | 0/19 [00:00<?, ?it/s]"
      ]
     },
     "metadata": {},
     "output_type": "display_data"
    },
    {
     "data": {
      "application/vnd.jupyter.widget-view+json": {
       "model_id": "c5c0458a19c3461f9a8b91f3567e913e",
       "version_major": 2,
       "version_minor": 0
      },
      "text/plain": [
       "Retrieving SummaryDoc documents:   0%|          | 0/15 [00:00<?, ?it/s]"
      ]
     },
     "metadata": {},
     "output_type": "display_data"
    },
    {
     "data": {
      "application/vnd.jupyter.widget-view+json": {
       "model_id": "941bd40ebc874f4290b82ed2ead55df9",
       "version_major": 2,
       "version_minor": 0
      },
      "text/plain": [
       "Retrieving SummaryDoc documents:   0%|          | 0/16 [00:00<?, ?it/s]"
      ]
     },
     "metadata": {},
     "output_type": "display_data"
    },
    {
     "data": {
      "application/vnd.jupyter.widget-view+json": {
       "model_id": "e5bcbb86f4fc454c8c5a9dd8a5138c09",
       "version_major": 2,
       "version_minor": 0
      },
      "text/plain": [
       "Retrieving SummaryDoc documents:   0%|          | 0/33 [00:00<?, ?it/s]"
      ]
     },
     "metadata": {},
     "output_type": "display_data"
    },
    {
     "data": {
      "application/vnd.jupyter.widget-view+json": {
       "model_id": "9a15d7db4fbc461c91484c1a871a91d7",
       "version_major": 2,
       "version_minor": 0
      },
      "text/plain": [
       "Retrieving SummaryDoc documents:   0%|          | 0/24 [00:00<?, ?it/s]"
      ]
     },
     "metadata": {},
     "output_type": "display_data"
    },
    {
     "data": {
      "application/vnd.jupyter.widget-view+json": {
       "model_id": "e81f39dd3ae04ad6b0e46d98241192ff",
       "version_major": 2,
       "version_minor": 0
      },
      "text/plain": [
       "Retrieving SummaryDoc documents:   0%|          | 0/43 [00:00<?, ?it/s]"
      ]
     },
     "metadata": {},
     "output_type": "display_data"
    },
    {
     "data": {
      "application/vnd.jupyter.widget-view+json": {
       "model_id": "7c9e852ec8a5422aa00e9e34c889df07",
       "version_major": 2,
       "version_minor": 0
      },
      "text/plain": [
       "Retrieving SummaryDoc documents:   0%|          | 0/28 [00:00<?, ?it/s]"
      ]
     },
     "metadata": {},
     "output_type": "display_data"
    },
    {
     "data": {
      "application/vnd.jupyter.widget-view+json": {
       "model_id": "9034a04515294df383ee68be87b03a21",
       "version_major": 2,
       "version_minor": 0
      },
      "text/plain": [
       "Retrieving SummaryDoc documents:   0%|          | 0/47 [00:00<?, ?it/s]"
      ]
     },
     "metadata": {},
     "output_type": "display_data"
    },
    {
     "data": {
      "application/vnd.jupyter.widget-view+json": {
       "model_id": "e97bf4fc0c884fad97a177bb8a35308f",
       "version_major": 2,
       "version_minor": 0
      },
      "text/plain": [
       "Retrieving SummaryDoc documents:   0%|          | 0/3 [00:00<?, ?it/s]"
      ]
     },
     "metadata": {},
     "output_type": "display_data"
    },
    {
     "data": {
      "application/vnd.jupyter.widget-view+json": {
       "model_id": "2ba9dd4f79164f18b0144b756d718efb",
       "version_major": 2,
       "version_minor": 0
      },
      "text/plain": [
       "Retrieving SummaryDoc documents:   0%|          | 0/90 [00:00<?, ?it/s]"
      ]
     },
     "metadata": {},
     "output_type": "display_data"
    },
    {
     "data": {
      "application/vnd.jupyter.widget-view+json": {
       "model_id": "b2c2223ca5454279b70b829da74f450c",
       "version_major": 2,
       "version_minor": 0
      },
      "text/plain": [
       "Retrieving SummaryDoc documents:   0%|          | 0/103 [00:00<?, ?it/s]"
      ]
     },
     "metadata": {},
     "output_type": "display_data"
    },
    {
     "data": {
      "application/vnd.jupyter.widget-view+json": {
       "model_id": "7bd2d1371a8047ebada486d4fe5e3862",
       "version_major": 2,
       "version_minor": 0
      },
      "text/plain": [
       "Retrieving SummaryDoc documents:   0%|          | 0/28 [00:00<?, ?it/s]"
      ]
     },
     "metadata": {},
     "output_type": "display_data"
    },
    {
     "data": {
      "application/vnd.jupyter.widget-view+json": {
       "model_id": "86c14bc5fd9843aab1bf5600c123e911",
       "version_major": 2,
       "version_minor": 0
      },
      "text/plain": [
       "Retrieving SummaryDoc documents:   0%|          | 0/3 [00:00<?, ?it/s]"
      ]
     },
     "metadata": {},
     "output_type": "display_data"
    },
    {
     "data": {
      "application/vnd.jupyter.widget-view+json": {
       "model_id": "81448237185145568e71490f2f30bdd1",
       "version_major": 2,
       "version_minor": 0
      },
      "text/plain": [
       "Retrieving SummaryDoc documents:   0%|          | 0/23 [00:00<?, ?it/s]"
      ]
     },
     "metadata": {},
     "output_type": "display_data"
    },
    {
     "data": {
      "application/vnd.jupyter.widget-view+json": {
       "model_id": "3a811db441954e948629a98350334dd4",
       "version_major": 2,
       "version_minor": 0
      },
      "text/plain": [
       "Retrieving SummaryDoc documents:   0%|          | 0/7 [00:00<?, ?it/s]"
      ]
     },
     "metadata": {},
     "output_type": "display_data"
    },
    {
     "data": {
      "application/vnd.jupyter.widget-view+json": {
       "model_id": "c198885f49314c328724101bf576c3f3",
       "version_major": 2,
       "version_minor": 0
      },
      "text/plain": [
       "Retrieving SummaryDoc documents:   0%|          | 0/114 [00:00<?, ?it/s]"
      ]
     },
     "metadata": {},
     "output_type": "display_data"
    },
    {
     "data": {
      "application/vnd.jupyter.widget-view+json": {
       "model_id": "6841acee0973427aa24696a485f66113",
       "version_major": 2,
       "version_minor": 0
      },
      "text/plain": [
       "Retrieving SummaryDoc documents:   0%|          | 0/4 [00:00<?, ?it/s]"
      ]
     },
     "metadata": {},
     "output_type": "display_data"
    },
    {
     "data": {
      "image/png": "[encoded data removed]",
      "text/plain": [
       "<Figure size 1200x600 with 1 Axes>"
      ]
     },
     "metadata": {},
     "output_type": "display_data"
    }
   ],
   "source": [
    "# oxide_vs_nitride_bandgap.py\n",
    "\n",
    "import matplotlib.pyplot as plt\n",
    "from pymatgen.ext.matproj import MPRester\n",
    "import numpy as np\n",
    "\n",
    "# Insert your Materials Project API key here\n",
    "API_KEY = \"YourApiKey\"\n",
    "\n",
    "# Metals of interest\n",
    "metals = [\"Ti\", \"Zr\", \"Hf\", \"Nb\", \"Ta\", \"Sn\", \"Cr\", \"Mg\", \"Li\", \"Al\"]\n",
    "\n",
    "# Initialize MPRester\n",
    "with MPRester(API_KEY) as mpr:\n",
    "    oxide_bandgaps = []\n",
    "    nitride_bandgaps = []\n",
    "    elements = []\n",
    "\n",
    "    for metal in metals:\n",
    "        # Query all oxides of metal\n",
    "        oxide_entries = mpr.summary.search(chemsys=f\"{metal}-O\")\n",
    "        oxide_bandgap = None\n",
    "        if oxide_entries:\n",
    "            bandgaps = [entry.band_gap for entry in oxide_entries if entry.band_gap is not None]\n",
    "            if bandgaps:\n",
    "                oxide_bandgap = max(bandgaps)\n",
    "\n",
    "        # Query all nitrides of metal\n",
    "        nitride_entries = mpr.summary.search(chemsys=f\"{metal}-N\")\n",
    "        nitride_bandgap = None\n",
    "        if nitride_entries:\n",
    "            bandgaps = [entry.band_gap for entry in nitride_entries if entry.band_gap is not None]\n",
    "            if bandgaps:\n",
    "                nitride_bandgap = max(bandgaps)\n",
    "\n",
    "        # Store only if we got at least one result\n",
    "        if oxide_bandgap is not None or nitride_bandgap is not None:\n",
    "            elements.append(metal)\n",
    "            oxide_bandgaps.append(oxide_bandgap)\n",
    "            nitride_bandgaps.append(nitride_bandgap)\n",
    "\n",
    "# Plotting\n",
    "import numpy as np\n",
    "\n",
    "x = np.arange(len(elements))  # label locations\n",
    "width = 0.35  # bar width\n",
    "\n",
    "fig, ax = plt.subplots(figsize=(12,6))\n",
    "rects1 = ax.bar(x - width/2, oxide_bandgaps, width, label='Oxides')\n",
    "rects2 = ax.bar(x + width/2, nitride_bandgaps, width, label='Nitrides')\n",
    "\n",
    "# Labels\n",
    "ax.set_ylabel('Band gap (eV)')\n",
    "ax.set_title('Maximum Band Gaps of Metal Oxides vs Nitrides')\n",
    "ax.set_xticks(x)\n",
    "ax.set_xticklabels(elements)\n",
    "ax.legend()\n",
    "\n",
    "plt.tight_layout()\n",
    "plt.show()"
   ]
  },
  {
   "cell_type": "code",
   "execution_count": null,
   "id": "4e0b3566-dbad-4300-a159-1b0e9c4cc1a6",
   "metadata": {},
   "outputs": [],
   "source": []
  }
 ],
 "metadata": {
  "kernelspec": {
   "display_name": "Python 3 (ipykernel)",
   "language": "python",
   "name": "python3"
  },
  "language_info": {
   "codemirror_mode": {
    "name": "ipython",
    "version": 3
   },
   "file_extension": ".py",
   "mimetype": "text/x-python",
   "name": "python",
   "nbconvert_exporter": "python",
   "pygments_lexer": "ipython3",
   "version": "3.13.3"
  }
 },
 "nbformat": 4,
 "nbformat_minor": 5
}
